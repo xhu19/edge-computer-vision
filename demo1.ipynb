{
  "nbformat": 4,
  "nbformat_minor": 0,
  "metadata": {
    "colab": {
      "name": "demo1.ipynb",
      "provenance": [],
      "toc_visible": true,
      "authorship_tag": "ABX9TyOSKjm+0347j0rbp+M/HQTA",
      "include_colab_link": true
    },
    "kernelspec": {
      "name": "python3",
      "display_name": "Python 3"
    }
  },
  "cells": [
    {
      "cell_type": "markdown",
      "metadata": {
        "id": "view-in-github",
        "colab_type": "text"
      },
      "source": [
        "<a href=\"https://colab.research.google.com/github/xhu19/edge-computer-vision/blob/master/demo1.ipynb\" target=\"_parent\"><img src=\"https://colab.research.google.com/assets/colab-badge.svg\" alt=\"Open In Colab\"/></a>"
      ]
    },
    {
      "cell_type": "markdown",
      "metadata": {
        "id": "TZ3DTm4MdTSy",
        "colab_type": "text"
      },
      "source": [
        "## Format Example\n"
      ]
    },
    {
      "cell_type": "markdown",
      "metadata": {
        "id": "AUcMnMPlitxt",
        "colab_type": "text"
      },
      "source": [
        "![alt text](![image](https://user-images.githubusercontent.com/53207444/83967468-3604eb00-a8f4-11ea-97cb-4ba667076c55.png))"
      ]
    },
    {
      "cell_type": "code",
      "metadata": {
        "id": "FBoHo3cgLqaX",
        "colab_type": "code",
        "colab": {}
      },
      "source": [
        "def hi():\n",
        "  return \"hi there\""
      ],
      "execution_count": 0,
      "outputs": []
    },
    {
      "cell_type": "code",
      "metadata": {
        "id": "LGsx-Y6ALvvw",
        "colab_type": "code",
        "outputId": "15db49ac-12b3-4376-f1b0-88b55f4ed495",
        "colab": {
          "base_uri": "https://localhost:8080/",
          "height": 34
        }
      },
      "source": [
        "hi()"
      ],
      "execution_count": 0,
      "outputs": [
        {
          "output_type": "execute_result",
          "data": {
            "text/plain": [
              "'hi there'"
            ]
          },
          "metadata": {
            "tags": []
          },
          "execution_count": 3
        }
      ]
    },
    {
      "cell_type": "markdown",
      "metadata": {
        "id": "kDqhl7nodr6c",
        "colab_type": "text"
      },
      "source": [
        "## Another Demo"
      ]
    },
    {
      "cell_type": "markdown",
      "metadata": {
        "id": "Pd7qpzU0d2wx",
        "colab_type": "text"
      },
      "source": [
        "#### Nested Code"
      ]
    }
  ]
}